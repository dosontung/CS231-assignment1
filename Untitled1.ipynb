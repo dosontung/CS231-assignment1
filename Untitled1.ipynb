{
 "cells": [
  {
   "cell_type": "code",
   "execution_count": 7,
   "metadata": {
    "collapsed": false
   },
   "outputs": [
    {
     "name": "stdout",
     "output_type": "stream",
     "text": [
      "5.0\n",
      "3\n",
      "0\n",
      "0\n",
      "0\n",
      "0\n",
      "0\n",
      "1\n",
      "1\n",
      "1\n",
      "1\n",
      "1\n",
      "2\n",
      "2\n",
      "2\n",
      "2\n",
      "2\n"
     ]
    }
   ],
   "source": [
    "import random\n",
    "import numpy as np\n",
    "from past.builtins import xrange\n",
    "\n",
    "X_train = np.ones((5,25))\n",
    "X = np.zeros((3,25))\n",
    "k = np.zeros((3,5))\n",
    "t = np.square(X_train[1,:]-X[1,:])\n",
    "t = np.sum(t)\n",
    "t = np.sqrt(t)\n",
    "print(t)\n",
    "print(X.shape[0])\n",
    "for i in xrange(X.shape[0]):\n",
    "    for j in xrange(X_train.shape[0]):\n",
    "       print(i)\n",
    "    "
   ]
  },
  {
   "cell_type": "code",
   "execution_count": null,
   "metadata": {
    "collapsed": true
   },
   "outputs": [],
   "source": []
  }
 ],
 "metadata": {
  "kernelspec": {
   "display_name": "Python 3",
   "language": "python",
   "name": "python3"
  },
  "language_info": {
   "codemirror_mode": {
    "name": "ipython",
    "version": 3
   },
   "file_extension": ".py",
   "mimetype": "text/x-python",
   "name": "python",
   "nbconvert_exporter": "python",
   "pygments_lexer": "ipython3",
   "version": "3.5.2"
  }
 },
 "nbformat": 4,
 "nbformat_minor": 0
}
