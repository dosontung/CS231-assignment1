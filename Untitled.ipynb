{
 "cells": [
  {
   "cell_type": "code",
   "execution_count": 1,
   "metadata": {
    "collapsed": false
   },
   "outputs": [],
   "source": [
    "import random\n",
    "from PIL import Image\n",
    "import numpy as np\n",
    "from past.builtins import xrange\n",
    "import matplotlib.pyplot as plt\n",
    "\n",
    "\n"
   ]
  },
  {
   "cell_type": "code",
   "execution_count": 3,
   "metadata": {
    "collapsed": false
   },
   "outputs": [],
   "source": [
    "image  = Image.open(\"5.jpg\")\n",
    "im = image.crop((471,1920-1902,696,1920-1874))\n",
    "im.show()"
   ]
  },
  {
   "cell_type": "code",
   "execution_count": 33,
   "metadata": {
    "collapsed": false
   },
   "outputs": [
    {
     "name": "stdout",
     "output_type": "stream",
     "text": [
      "[0 1 2]\n",
      "[[  1   2   3]\n",
      " [123   5   6]\n",
      " [  2   3   4]]\n",
      "[2 2 6]\n"
     ]
    }
   ],
   "source": [
    "num_training = 20\n",
    "a = np.array([[1, 2, 3],[123, 5, 6],[2,3,4]]);\n",
    "l = np.array([2,0,1]).T\n",
    "k = a[l,np.arange(3).T]\n",
    "print(np.arange(3))\n",
    "print(a)\n",
    "print(k)\n",
    "\n",
    "\n"
   ]
  },
  {
   "cell_type": "code",
   "execution_count": 6,
   "metadata": {
    "collapsed": false
   },
   "outputs": [
    {
     "name": "stdout",
     "output_type": "stream",
     "text": [
      "[[ 2.  2.  2.  2.  2.  2.]\n",
      " [ 2.  2.  2.  2.  2.  2.]\n",
      " [-1. -1. -1. -1. -1. -1.]\n",
      " [ 2.  2.  2.  2.  2.  2.]]\n",
      "[[ 2.  2.  2.  2.  2.  2.]\n",
      " [ 2.  2.  2.  2.  2.  2.]\n",
      " [-0. -0. -0. -0. -0. -0.]\n",
      " [ 2.  2.  2.  2.  2.  2.]]\n"
     ]
    }
   ],
   "source": [
    "\n",
    "n = np.ones((4,6))*2\n",
    "n[2,:] = -1\n",
    "k = n > 0;\n",
    "print(n)\n",
    "print(n*k)\n",
    "\n"
   ]
  },
  {
   "cell_type": "code",
   "execution_count": 20,
   "metadata": {
    "collapsed": false
   },
   "outputs": [
    {
     "name": "stdout",
     "output_type": "stream",
     "text": [
      "(7, 7) (1, 3) [[  1.   1.   1.   1.   1.   1.   1.]\n",
      " [  1.   1.   1.   1.   1.   1.   1.]\n",
      " [  1.   1.   1.   1.   1.   1.   1.]\n",
      " [ 25.  25.  25.  25.  25.  25.  25.]\n",
      " [  1.   1.   1.   1.   1.   1.   1.]\n",
      " [  1.   1.   1.   1.   1.   1.   1.]\n",
      " [  1.   1.   1.   1.   1.   1.   1.]]\n"
     ]
    }
   ],
   "source": [
    "a = np.ones((7,7));\n",
    "a[3] = 5\n",
    "a = np.square(a);\n",
    "\n",
    "b = np.ones((3,1)).T;\n",
    "\n",
    "\n",
    "\n",
    "print(a.shape,b.shape,a)"
   ]
  },
  {
   "cell_type": "code",
   "execution_count": 27,
   "metadata": {
    "collapsed": false
   },
   "outputs": [
    {
     "name": "stdout",
     "output_type": "stream",
     "text": [
      "[123.0]\n"
     ]
    }
   ],
   "source": [
    " k = {}\n",
    " k[1] =[]   \n",
    " k[1].append(float(123))\n",
    " print(k[1])\n",
    "    "
   ]
  },
  {
   "cell_type": "code",
   "execution_count": null,
   "metadata": {
    "collapsed": true
   },
   "outputs": [],
   "source": []
  },
  {
   "cell_type": "code",
   "execution_count": null,
   "metadata": {
    "collapsed": true
   },
   "outputs": [],
   "source": []
  },
  {
   "cell_type": "code",
   "execution_count": null,
   "metadata": {
    "collapsed": true
   },
   "outputs": [],
   "source": []
  },
  {
   "cell_type": "code",
   "execution_count": null,
   "metadata": {
    "collapsed": true
   },
   "outputs": [],
   "source": []
  }
 ],
 "metadata": {
  "kernelspec": {
   "display_name": "Python 3",
   "language": "python",
   "name": "python3"
  },
  "language_info": {
   "codemirror_mode": {
    "name": "ipython",
    "version": 3
   },
   "file_extension": ".py",
   "mimetype": "text/x-python",
   "name": "python",
   "nbconvert_exporter": "python",
   "pygments_lexer": "ipython3",
   "version": "3.5.2"
  }
 },
 "nbformat": 4,
 "nbformat_minor": 0
}
